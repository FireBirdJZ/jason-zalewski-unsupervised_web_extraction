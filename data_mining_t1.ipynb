{
 "cells": [
  {
   "cell_type": "code",
   "execution_count": 2,
   "metadata": {},
   "outputs": [],
   "source": [
    "from bs4 import BeautifulSoup  \n",
    "import pandas as pd"
   ]
  },
  {
   "cell_type": "code",
   "execution_count": 57,
   "metadata": {},
   "outputs": [
    {
     "name": "stdout",
     "output_type": "stream",
     "text": [
      "['', 'alumni', 'corporate', 'people', 'my.cs.illinois.edu', 'illinois.edu', 'grainger.illinois.edu', '', 'search', 'about', 'about', 'statistics', 'contact-us', 'history-timeline', 'accreditation', 'values', 'cs-cares', 'contact', 'governance', 'members', 'resources', 'people', 'all-faculty', 'department-faculty', 'affiliate-faculty', 'adjunct-faculty', 'emeritus-faculty', 'postdocs', 'staff', 'office-department-head', 'communications-engagement-team', 'undergraduate-advising-office', 'graduate-advising-office', 'instructional-development-team', 'business-office', 'faculty-support-contacts', 'facilities-shipping-and-receiving', 'graduating-phd-students', 'recent-phd-alumni', 'positions', 'faculty-positions', 'postdoctoral', 'future-faculty-fellows', 'staff-positions', 'choose-illinois-computer-science', 'awards', 'celebration', 'celebration-2022', 'resources', 'faculty-awards', 'chairs-and-professorships', 'national-international-awards', 'university-illinois-awards', 'undergraduate-scholarships-awards', 'graduate-fellowships-awards', 'alumni-awards', 'alumni-awards-past-recipients', 'national-international-awards', 'university-illinois-awards', 'staff-awards', 'calendar', 'all', 'department', 'speakers', 'graduate', 'undergraduate', 'corporate', 'cscares', 'student-groups', 'admissions', 'apply', 'admissions', 'undergraduate', 'apply', 'degree-program-options', 'dates', 'process', 'transfer-students', 'www.housing.illinois.edu', 'accreditation', 'graduate', 'apply', 'degree-program-options', 'professional-master-computer-science-mcs-program', 'application-deadlines', 'applications-process-requirements', 'additional-required-application-materials', 'application-fee-waivers', 'data-structures-proficiency-exam', 'application-checklist', 'faqs', 'ican-faqs', 'online-mcs-faqs', '', 'impact-illinois-cs-degree', 'financial-aid', 'academics', 'apply', 'academics', 'instructional', 'undergraduate', 'degree-program-options', 'bs-computer-science', 'bs-mathematics-computer-science', 'bs-statistics-computer-science', 'minor-computer-science', 'cs-x-degree-programs', 'computer-science-advertising', 'computer-science-animal-sciences', 'computer-science-anthropology', 'computer-science-astronomy', 'computer-science-chemistry', 'computer-science-crop-sciences', 'computer-science-economics', 'computer-science-education', 'computer-science-geography', 'computer-science-linguistics', 'computer-science-music', 'computer-science-philosophy', 'cs-x-degree-requirements', 'cs-undergraduate-degree-options-faq', 'registration', 'cs-course-restrictions-enrollment-caps', 'policies-and-procedures', 'undergraduate-advising', 'cs-student-opportunity-series-cs-sos', 'undergraduate-forms', 'honors', 'transfer-students', 'graduate', 'phd-program', 'final-exam-thesis-defense', 'guidelines-forming-phd-committee', 'phd-ms-thesis-format-review-guidelines', 'phd-program-study-process', 'phd-requirements', 'phd-time-limits-milestones', 'preliminary-exam', 'qualifying-exam', 'ms-program', 'ms-bioinformatics-program', 'professional-mcs', 'chicago-master-computer-science', 'campus-master-computer-science', 'online-master-computer-science', 'online-master-computer-science-data-science', 'fifth-year-masters-programs', '5-year-bs-mcs-program', '5-year-bs-ms-program', 'ican', 'graduate-forms-advising-resources', 'epi-exam-requirements', 'graduate-advising-contacts', 'graduate-student-annual-evaluation-process', 'new-graduate-student-resources', 'mcs-campus', 'ms-general', 'phd-general', 'official-forms', 'courses', 'honor-code', 'student-resources', 'research', 'areas', 'research', 'insper', 'projects', 'mindinvitro.illinois.edu', 'areas', 'architecture-compilers-and-parallel-computing', 'artificial-intelligence', 'bioinformatics-and-computational-biology', 'computers-and-education', 'data-and-information-systems', 'interactive-computing', 'programming-languages-formal-methods-and-software-engineering', 'scientific-computing', 'security-and-privacy', 'systems-and-networking', 'theory-and-algorithms', 'featured-lectures', 'corporate#research', 'getfile.asp?id=3146', 'summer-research', 'undergraduate-research', 'DRP', 'trick-or-research', 'srp', 'participants', 'news', 'news', 'covid-19-projects', 'donor-profiles', 'media-coverage', 'e-news', 'impact-report-publications', 'speaker-series', 'banerjee-lecture', 'donald-b-gillies-memorial-lecture', 'equity-justice', 'robert-mueller-thuns-lecture', 'student-life', 'jabbarvand-plans-a-path-for-neural-testing-to-improve-software-debugging-through-nsf-career-award', 'news', 'student-life', 'overview-cs-student-life', 'student-organizations', 'department-college-and-campus-events', 'student-resources', 'career-services', 'broadening-participation-computing', 'ican', 'broadening-participation-computing', 'UniversityOfIllinois-UrbanaChampaign_ComputerScience_DepartmentalBPCPlan.pdf', 'programs', 'csambassadors', 'participants', 'application', 'cskickstart', 'ai4all', '85551', 'ican', 'apply', 'srp', 'resources', 'cross-cutting', 'conferences-workshops', 'ca-training', 'equity-justice', 'k-12', 'k-12-outreach', 'k-12-resources', 'student-organizations', 'give', 'give-now', 'give', 'give-now', 'ways-give', 'donor-profiles', 'computer-science-visionary-scholarship-donors', '', 'about', 'people', '', 'about', 'people', 'zaher', 'sadve', 'vadve', 'agha', 'n-ahuja', 'ramn', 'alawini', 'namato', 'maa', 'angrave', 'bpbailey', 'arindamb', 'batesa', 'mattox', 'spbhat2', 'clblake', 'nikita', 'tbretl', 'bigdog', 'caesar', 'rhc', 'chackoge', 'challen', 'tmc', 'karthe', 'eshwar', 'kcchang', 'chekuri', 'dchen', 'wendycho', 'girishc', 'camillec', 'bcosman', 'katcun', 'rcunnin2', 'davis68', 'mrebl', 'delgosha', 'jdiesner', 'minhdo', 'krdc', 'dullerud', 'melkebir', 'jeffe', 'gcevans', 'waf', 'fischerp', 'mfleck', 'cwfletch', 'miforbes', 'daf', 'friedman', 'aganesn2', 'jugal', 'ygertner', 'ghose', 'girju', 'pbg', 'mgolpar', 'wgropp', 'kaiyug', 'lgui', 'cgunter', 'egunter', 'indy', 'saurabhg', 'hanj', 'harandi', 'sariel', 'jch', 'jhasegaw', 'kkhauser', 'jingrui', 'daheath', 'heath', 'glherman', 'juliahmr', 'dhoiem', 'yihchun', 'jianh', 'yunhuang', 'w-hwu', 'rkiyer', 'reyhaneh', 'shj', 'hengji', 'nanjiang', 'kale', 'kamin', 'ddkang', 'kkarahal', 'dskatz', 'dakshita', 'nskim', 'kindrtnk', 'kirlik', 'andreask', 'wtkramer', 'rhk', 'emer-kuck', 'rakeshk', 'ranjitha', 'hclane', 'lavalle', 'lawrie', 'slazebni', 'klevchen', 'colleenl', 'lbo', 'yunzhuli', 'hl314', 'j-liu1', 'ludaesch', 'lumetta', 'marinov', 'mchenry', 'rutameht', 'charithm', 'meseguer', 'mickunas', 'milenkov', 'soc1024', 'misailo', 'mitras', 'radhikam', 'moralesa', 'klara', 'ymn', 'dmnicol', 'mnowak1', 'idoia', 'lukeo', 'padua', 'yongjoo', 'madhu', 'sjp', 'haopeng', 'jianpeng', 'pitt', 'maxim', 'rwerger', 'jrehg', 'j-reid1', 'reingold', 'renling', 'tringer', 'generobi', 'grosu', 'croy', 'schatz', 'aschwing', 'lrs', 'shaffer1', 'mfsilva', 'ggnds', 'msinha', 'skeel', 'paris', 'snir', 'bradsol', 'solomon2', 'elahe', 'rsrikant', 'ssterman', 'jimeng', 'hs1', 'rubyt', 'mjt', 'htong', 'torrella', 'twidale', 'luthert', 'varshney', 'deepakv', 'pramodv', 'vmahesh', 'gangw', 'shaowen', 'shenlong', 'yvw', 'yxw', 'warnow', 'tiffani', 'winslett', 'mwoodley', 'arwool', 'tyxu', 'yuanwz', 'czhai', 'lingming', 'hanzhao', 'zilles', '', 'IllinoisComputerScience', 'IllinoisCS', 'IllinoisCS', 'illinoiscs', '', 'contact-us', 'cs.illinois.edu', 'cs.illinois.edu', 'grainger.illinois.edu', 'illinois.edu', 'copyright.html', 'web_privacy', 'editpage.asp?id=11845']\n"
     ]
    }
   ],
   "source": [
    "import requests\n",
    "from bs4 import BeautifulSoup\n",
    "\n",
    "url = \"https://cs.illinois.edu/about/people/all-faculty/\"\n",
    "\n",
    "# Make a GET request to the URL\n",
    "response = requests.get(url)\n",
    "\n",
    "# Parse the HTML response using BeautifulSoup\n",
    "soup = BeautifulSoup(response.content, \"html.parser\")\n",
    "\n",
    "# Find all the links in the HTML response that contain a '/'\n",
    "links = soup.find_all(\"a\", href=lambda href: href and '/' in href)\n",
    "\n",
    "# Extract the options after the '/' in each link\n",
    "options = [link[\"href\"].split(\"/\")[-1] for link in links]\n",
    "\n",
    "# Print the options\n",
    "print(options)"
   ]
  },
  {
   "cell_type": "code",
   "execution_count": 76,
   "metadata": {},
   "outputs": [],
   "source": [
    "profs = ['zaher', 'sadve', 'vadve', 'agha', 'n-ahuja', 'ramn', 'alawini', 'namato', 'maa', 'angrave', 'bpbailey', 'arindamb', 'batesa', 'mattox', 'spbhat2', 'clblake', 'nikita', 'tbretl', 'bigdog', 'caesar', 'rhc', 'chackoge', 'challen', 'tmc', 'karthe', 'eshwar', 'kcchang', 'chekuri', 'dchen', 'wendycho', 'girishc', 'camillec', 'bcosman', 'katcun', 'rcunnin2', 'davis68', 'mrebl', 'delgosha', 'jdiesner', 'minhdo', 'krdc', 'dullerud', 'melkebir', 'jeffe', 'gcevans', 'waf', 'fischerp', 'mfleck', 'cwfletch', 'miforbes', 'daf', 'friedman', 'aganesn2', 'jugal', 'ygertner', 'ghose', 'girju', 'pbg', 'mgolpar', 'wgropp', 'kaiyug', 'lgui', 'cgunter', 'egunter', 'indy', 'saurabhg', 'hanj', 'harandi', 'sariel', 'jch', 'jhasegaw', 'kkhauser', 'jingrui', 'daheath', 'heath', 'glherman', 'juliahmr', 'dhoiem', 'yihchun', 'jianh', 'yunhuang', 'w-hwu', 'rkiyer', 'reyhaneh', 'shj', 'hengji', 'nanjiang', 'kale', 'kamin', 'ddkang', 'kkarahal', 'dskatz', 'dakshita', 'nskim', 'kindrtnk', 'kirlik', 'andreask', 'wtkramer', 'rhk', 'emer-kuck', 'rakeshk', 'ranjitha', 'hclane', 'lavalle', 'lawrie', 'slazebni', 'klevchen', 'colleenl', 'lbo', 'yunzhuli', 'hl314', 'j-liu1', 'ludaesch', 'lumetta', 'marinov', 'mchenry', 'rutameht', 'charithm', 'meseguer', 'mickunas', 'milenkov', 'soc1024', 'misailo', 'mitras', 'radhikam', 'moralesa', 'klara', 'ymn', 'dmnicol', 'mnowak1', 'idoia', 'lukeo', 'padua', 'yongjoo', 'madhu', 'sjp', 'haopeng', 'jianpeng', 'pitt', 'maxim', 'rwerger', 'jrehg', 'j-reid1', 'reingold', 'renling', 'tringer', 'generobi', 'grosu', 'croy', 'schatz', 'aschwing', 'lrs', 'shaffer1', 'mfsilva', 'ggnds', 'msinha', 'skeel', 'paris', 'snir', 'bradsol', 'solomon2', 'elahe', 'rsrikant', 'ssterman', 'jimeng', 'hs1', 'rubyt', 'mjt', 'htong', 'torrella', 'twidale', 'luthert', 'varshney', 'deepakv', 'pramodv', 'vmahesh', 'gangw', 'shaowen', 'shenlong', 'yvw', 'yxw', 'warnow', 'tiffani', 'winslett', 'mwoodley', 'arwool', 'tyxu', 'yuanwz', 'czhai', 'lingming', 'hanzhao', 'zilles']\n",
    "# test\n",
    "#profs = ['jeffe', 'vadve']"
   ]
  },
  {
   "cell_type": "code",
   "execution_count": 67,
   "metadata": {},
   "outputs": [
    {
     "name": "stdout",
     "output_type": "stream",
     "text": [
      "Header not found: Research Interests\n"
     ]
    }
   ],
   "source": [
    "import requests\n",
    "from bs4 import BeautifulSoup\n",
    "\n",
    "# specify the URL of the webpage to be scraped\n",
    "for prof in profs:\n",
    "    url = f\"https://cs.illinois.edu/about/people/all-faculty/{prof}\"\n",
    "\n",
    "    # specify the list of h2 headers to search for and the corresponding text labels\n",
    "    h2_headers = [(\"Education\", \"Education\"), (\"Academic Positions\", \"Academic Positions\"), (\"Research Interests\", \"Research Interests\")]\n",
    "\n",
    "    # send a GET request to the webpage\n",
    "    response = requests.get(url)\n",
    "\n",
    "    # parse the HTML content of the webpage using Beautiful Soup\n",
    "    soup = BeautifulSoup(response.content, 'html.parser')\n",
    "\n",
    "    # extract the name, department, and university from the webpage title\n",
    "    title = soup.head.find('title')\n",
    "    if title:\n",
    "        title_parts = title.text.strip().split(' | ')\n",
    "        name = title_parts[0]\n",
    "        department = title_parts[1]\n",
    "        university = title_parts[2]\n",
    "    else:\n",
    "        print('No title tag found')\n",
    "        name = ''\n",
    "        department = ''\n",
    "        university = ''\n",
    "\n",
    "    # create a string to hold the information of the new person\n",
    "    person_info = f\"Name: {name}\\nDepartment: {department}\\nUniversity: {university}\\n\\n\"\n",
    "    for header_text, label in h2_headers:\n",
    "        # find the h2 header with the specified text\n",
    "        h2 = soup.find('h2', text=header_text)\n",
    "        if h2:\n",
    "            # find the ul tag after the h2 header\n",
    "            ul = h2.find_next('ul')\n",
    "            if ul:\n",
    "                # loop through the li tags in the ul tag and add them to the person_info string\n",
    "                for li in ul.find_all('li'):\n",
    "                    person_info += f\"{label}: {li.text.strip()}\\n\"\n",
    "            else:\n",
    "                print('No ul tag found after header:', header_text)\n",
    "        else:\n",
    "            print('Header not found:', header_text)\n",
    "\n",
    "    # write the person_info string to a text file in append mode\n",
    "    with open('people.txt', 'a') as file:\n",
    "        file.write(person_info + \"\\n<----------------------------------------------------------------->\\n\")\n"
   ]
  },
  {
   "cell_type": "code",
   "execution_count": 77,
   "metadata": {},
   "outputs": [
    {
     "name": "stdout",
     "output_type": "stream",
     "text": [
      "Header not found: Academic Positions\n",
      "Header not found: Academic Positions\n",
      "Header not found: Research Interests\n",
      "Header not found: Research Interests\n",
      "Header not found: Academic Positions\n",
      "Header not found: Academic Positions\n",
      "Header not found: Education\n",
      "Header not found: Academic Positions\n",
      "Header not found: Education\n",
      "Header not found: Academic Positions\n",
      "Header not found: Academic Positions\n",
      "Header not found: Research Interests\n",
      "Header not found: Education\n",
      "Header not found: Academic Positions\n",
      "Header not found: Research Interests\n",
      "Header not found: Academic Positions\n",
      "Header not found: Academic Positions\n",
      "Header not found: Education\n",
      "Header not found: Academic Positions\n",
      "Header not found: Education\n",
      "Header not found: Academic Positions\n",
      "Header not found: Research Interests\n",
      "Header not found: Academic Positions\n",
      "Header not found: Education\n",
      "Header not found: Academic Positions\n",
      "Header not found: Research Interests\n",
      "Header not found: Academic Positions\n",
      "Header not found: Academic Positions\n",
      "Header not found: Education\n",
      "Header not found: Academic Positions\n",
      "Header not found: Research Interests\n",
      "Header not found: Research Interests\n",
      "Header not found: Education\n",
      "Header not found: Academic Positions\n",
      "Header not found: Research Interests\n"
     ]
    },
    {
     "ename": "ConnectionError",
     "evalue": "HTTPSConnectionPool(host='cs.illinois.edu', port=443): Max retries exceeded with url: /about/people/all-faculty/karthe (Caused by NewConnectionError('<urllib3.connection.HTTPSConnection object at 0x7fefd063b040>: Failed to establish a new connection: [Errno 8] nodename nor servname provided, or not known'))",
     "output_type": "error",
     "traceback": [
      "\u001b[0;31m---------------------------------------------------------------------------\u001b[0m",
      "\u001b[0;31mgaierror\u001b[0m                                  Traceback (most recent call last)",
      "File \u001b[0;32m~/opt/anaconda3/lib/python3.9/site-packages/urllib3/connection.py:174\u001b[0m, in \u001b[0;36mHTTPConnection._new_conn\u001b[0;34m(self)\u001b[0m\n\u001b[1;32m    173\u001b[0m \u001b[39mtry\u001b[39;00m:\n\u001b[0;32m--> 174\u001b[0m     conn \u001b[39m=\u001b[39m connection\u001b[39m.\u001b[39;49mcreate_connection(\n\u001b[1;32m    175\u001b[0m         (\u001b[39mself\u001b[39;49m\u001b[39m.\u001b[39;49m_dns_host, \u001b[39mself\u001b[39;49m\u001b[39m.\u001b[39;49mport), \u001b[39mself\u001b[39;49m\u001b[39m.\u001b[39;49mtimeout, \u001b[39m*\u001b[39;49m\u001b[39m*\u001b[39;49mextra_kw\n\u001b[1;32m    176\u001b[0m     )\n\u001b[1;32m    178\u001b[0m \u001b[39mexcept\u001b[39;00m SocketTimeout:\n",
      "File \u001b[0;32m~/opt/anaconda3/lib/python3.9/site-packages/urllib3/util/connection.py:72\u001b[0m, in \u001b[0;36mcreate_connection\u001b[0;34m(address, timeout, source_address, socket_options)\u001b[0m\n\u001b[1;32m     68\u001b[0m     \u001b[39mreturn\u001b[39;00m six\u001b[39m.\u001b[39mraise_from(\n\u001b[1;32m     69\u001b[0m         LocationParseError(\u001b[39mu\u001b[39m\u001b[39m\"\u001b[39m\u001b[39m'\u001b[39m\u001b[39m%s\u001b[39;00m\u001b[39m'\u001b[39m\u001b[39m, label empty or too long\u001b[39m\u001b[39m\"\u001b[39m \u001b[39m%\u001b[39m host), \u001b[39mNone\u001b[39;00m\n\u001b[1;32m     70\u001b[0m     )\n\u001b[0;32m---> 72\u001b[0m \u001b[39mfor\u001b[39;00m res \u001b[39min\u001b[39;00m socket\u001b[39m.\u001b[39;49mgetaddrinfo(host, port, family, socket\u001b[39m.\u001b[39;49mSOCK_STREAM):\n\u001b[1;32m     73\u001b[0m     af, socktype, proto, canonname, sa \u001b[39m=\u001b[39m res\n",
      "File \u001b[0;32m~/opt/anaconda3/lib/python3.9/socket.py:954\u001b[0m, in \u001b[0;36mgetaddrinfo\u001b[0;34m(host, port, family, type, proto, flags)\u001b[0m\n\u001b[1;32m    953\u001b[0m addrlist \u001b[39m=\u001b[39m []\n\u001b[0;32m--> 954\u001b[0m \u001b[39mfor\u001b[39;00m res \u001b[39min\u001b[39;00m _socket\u001b[39m.\u001b[39;49mgetaddrinfo(host, port, family, \u001b[39mtype\u001b[39;49m, proto, flags):\n\u001b[1;32m    955\u001b[0m     af, socktype, proto, canonname, sa \u001b[39m=\u001b[39m res\n",
      "\u001b[0;31mgaierror\u001b[0m: [Errno 8] nodename nor servname provided, or not known",
      "\nDuring handling of the above exception, another exception occurred:\n",
      "\u001b[0;31mNewConnectionError\u001b[0m                        Traceback (most recent call last)",
      "File \u001b[0;32m~/opt/anaconda3/lib/python3.9/site-packages/urllib3/connectionpool.py:703\u001b[0m, in \u001b[0;36mHTTPConnectionPool.urlopen\u001b[0;34m(self, method, url, body, headers, retries, redirect, assert_same_host, timeout, pool_timeout, release_conn, chunked, body_pos, **response_kw)\u001b[0m\n\u001b[1;32m    702\u001b[0m \u001b[39m# Make the request on the httplib connection object.\u001b[39;00m\n\u001b[0;32m--> 703\u001b[0m httplib_response \u001b[39m=\u001b[39m \u001b[39mself\u001b[39;49m\u001b[39m.\u001b[39;49m_make_request(\n\u001b[1;32m    704\u001b[0m     conn,\n\u001b[1;32m    705\u001b[0m     method,\n\u001b[1;32m    706\u001b[0m     url,\n\u001b[1;32m    707\u001b[0m     timeout\u001b[39m=\u001b[39;49mtimeout_obj,\n\u001b[1;32m    708\u001b[0m     body\u001b[39m=\u001b[39;49mbody,\n\u001b[1;32m    709\u001b[0m     headers\u001b[39m=\u001b[39;49mheaders,\n\u001b[1;32m    710\u001b[0m     chunked\u001b[39m=\u001b[39;49mchunked,\n\u001b[1;32m    711\u001b[0m )\n\u001b[1;32m    713\u001b[0m \u001b[39m# If we're going to release the connection in ``finally:``, then\u001b[39;00m\n\u001b[1;32m    714\u001b[0m \u001b[39m# the response doesn't need to know about the connection. Otherwise\u001b[39;00m\n\u001b[1;32m    715\u001b[0m \u001b[39m# it will also try to release it and we'll have a double-release\u001b[39;00m\n\u001b[1;32m    716\u001b[0m \u001b[39m# mess.\u001b[39;00m\n",
      "File \u001b[0;32m~/opt/anaconda3/lib/python3.9/site-packages/urllib3/connectionpool.py:386\u001b[0m, in \u001b[0;36mHTTPConnectionPool._make_request\u001b[0;34m(self, conn, method, url, timeout, chunked, **httplib_request_kw)\u001b[0m\n\u001b[1;32m    385\u001b[0m \u001b[39mtry\u001b[39;00m:\n\u001b[0;32m--> 386\u001b[0m     \u001b[39mself\u001b[39;49m\u001b[39m.\u001b[39;49m_validate_conn(conn)\n\u001b[1;32m    387\u001b[0m \u001b[39mexcept\u001b[39;00m (SocketTimeout, BaseSSLError) \u001b[39mas\u001b[39;00m e:\n\u001b[1;32m    388\u001b[0m     \u001b[39m# Py2 raises this as a BaseSSLError, Py3 raises it as socket timeout.\u001b[39;00m\n",
      "File \u001b[0;32m~/opt/anaconda3/lib/python3.9/site-packages/urllib3/connectionpool.py:1040\u001b[0m, in \u001b[0;36mHTTPSConnectionPool._validate_conn\u001b[0;34m(self, conn)\u001b[0m\n\u001b[1;32m   1039\u001b[0m \u001b[39mif\u001b[39;00m \u001b[39mnot\u001b[39;00m \u001b[39mgetattr\u001b[39m(conn, \u001b[39m\"\u001b[39m\u001b[39msock\u001b[39m\u001b[39m\"\u001b[39m, \u001b[39mNone\u001b[39;00m):  \u001b[39m# AppEngine might not have  `.sock`\u001b[39;00m\n\u001b[0;32m-> 1040\u001b[0m     conn\u001b[39m.\u001b[39;49mconnect()\n\u001b[1;32m   1042\u001b[0m \u001b[39mif\u001b[39;00m \u001b[39mnot\u001b[39;00m conn\u001b[39m.\u001b[39mis_verified:\n",
      "File \u001b[0;32m~/opt/anaconda3/lib/python3.9/site-packages/urllib3/connection.py:358\u001b[0m, in \u001b[0;36mHTTPSConnection.connect\u001b[0;34m(self)\u001b[0m\n\u001b[1;32m    356\u001b[0m \u001b[39mdef\u001b[39;00m \u001b[39mconnect\u001b[39m(\u001b[39mself\u001b[39m):\n\u001b[1;32m    357\u001b[0m     \u001b[39m# Add certificate verification\u001b[39;00m\n\u001b[0;32m--> 358\u001b[0m     \u001b[39mself\u001b[39m\u001b[39m.\u001b[39msock \u001b[39m=\u001b[39m conn \u001b[39m=\u001b[39m \u001b[39mself\u001b[39;49m\u001b[39m.\u001b[39;49m_new_conn()\n\u001b[1;32m    359\u001b[0m     hostname \u001b[39m=\u001b[39m \u001b[39mself\u001b[39m\u001b[39m.\u001b[39mhost\n",
      "File \u001b[0;32m~/opt/anaconda3/lib/python3.9/site-packages/urllib3/connection.py:186\u001b[0m, in \u001b[0;36mHTTPConnection._new_conn\u001b[0;34m(self)\u001b[0m\n\u001b[1;32m    185\u001b[0m \u001b[39mexcept\u001b[39;00m SocketError \u001b[39mas\u001b[39;00m e:\n\u001b[0;32m--> 186\u001b[0m     \u001b[39mraise\u001b[39;00m NewConnectionError(\n\u001b[1;32m    187\u001b[0m         \u001b[39mself\u001b[39m, \u001b[39m\"\u001b[39m\u001b[39mFailed to establish a new connection: \u001b[39m\u001b[39m%s\u001b[39;00m\u001b[39m\"\u001b[39m \u001b[39m%\u001b[39m e\n\u001b[1;32m    188\u001b[0m     )\n\u001b[1;32m    190\u001b[0m \u001b[39mreturn\u001b[39;00m conn\n",
      "\u001b[0;31mNewConnectionError\u001b[0m: <urllib3.connection.HTTPSConnection object at 0x7fefd063b040>: Failed to establish a new connection: [Errno 8] nodename nor servname provided, or not known",
      "\nDuring handling of the above exception, another exception occurred:\n",
      "\u001b[0;31mMaxRetryError\u001b[0m                             Traceback (most recent call last)",
      "File \u001b[0;32m~/opt/anaconda3/lib/python3.9/site-packages/requests/adapters.py:440\u001b[0m, in \u001b[0;36mHTTPAdapter.send\u001b[0;34m(self, request, stream, timeout, verify, cert, proxies)\u001b[0m\n\u001b[1;32m    439\u001b[0m \u001b[39mif\u001b[39;00m \u001b[39mnot\u001b[39;00m chunked:\n\u001b[0;32m--> 440\u001b[0m     resp \u001b[39m=\u001b[39m conn\u001b[39m.\u001b[39;49murlopen(\n\u001b[1;32m    441\u001b[0m         method\u001b[39m=\u001b[39;49mrequest\u001b[39m.\u001b[39;49mmethod,\n\u001b[1;32m    442\u001b[0m         url\u001b[39m=\u001b[39;49murl,\n\u001b[1;32m    443\u001b[0m         body\u001b[39m=\u001b[39;49mrequest\u001b[39m.\u001b[39;49mbody,\n\u001b[1;32m    444\u001b[0m         headers\u001b[39m=\u001b[39;49mrequest\u001b[39m.\u001b[39;49mheaders,\n\u001b[1;32m    445\u001b[0m         redirect\u001b[39m=\u001b[39;49m\u001b[39mFalse\u001b[39;49;00m,\n\u001b[1;32m    446\u001b[0m         assert_same_host\u001b[39m=\u001b[39;49m\u001b[39mFalse\u001b[39;49;00m,\n\u001b[1;32m    447\u001b[0m         preload_content\u001b[39m=\u001b[39;49m\u001b[39mFalse\u001b[39;49;00m,\n\u001b[1;32m    448\u001b[0m         decode_content\u001b[39m=\u001b[39;49m\u001b[39mFalse\u001b[39;49;00m,\n\u001b[1;32m    449\u001b[0m         retries\u001b[39m=\u001b[39;49m\u001b[39mself\u001b[39;49m\u001b[39m.\u001b[39;49mmax_retries,\n\u001b[1;32m    450\u001b[0m         timeout\u001b[39m=\u001b[39;49mtimeout\n\u001b[1;32m    451\u001b[0m     )\n\u001b[1;32m    453\u001b[0m \u001b[39m# Send the request.\u001b[39;00m\n\u001b[1;32m    454\u001b[0m \u001b[39melse\u001b[39;00m:\n",
      "File \u001b[0;32m~/opt/anaconda3/lib/python3.9/site-packages/urllib3/connectionpool.py:785\u001b[0m, in \u001b[0;36mHTTPConnectionPool.urlopen\u001b[0;34m(self, method, url, body, headers, retries, redirect, assert_same_host, timeout, pool_timeout, release_conn, chunked, body_pos, **response_kw)\u001b[0m\n\u001b[1;32m    783\u001b[0m     e \u001b[39m=\u001b[39m ProtocolError(\u001b[39m\"\u001b[39m\u001b[39mConnection aborted.\u001b[39m\u001b[39m\"\u001b[39m, e)\n\u001b[0;32m--> 785\u001b[0m retries \u001b[39m=\u001b[39m retries\u001b[39m.\u001b[39;49mincrement(\n\u001b[1;32m    786\u001b[0m     method, url, error\u001b[39m=\u001b[39;49me, _pool\u001b[39m=\u001b[39;49m\u001b[39mself\u001b[39;49m, _stacktrace\u001b[39m=\u001b[39;49msys\u001b[39m.\u001b[39;49mexc_info()[\u001b[39m2\u001b[39;49m]\n\u001b[1;32m    787\u001b[0m )\n\u001b[1;32m    788\u001b[0m retries\u001b[39m.\u001b[39msleep()\n",
      "File \u001b[0;32m~/opt/anaconda3/lib/python3.9/site-packages/urllib3/util/retry.py:592\u001b[0m, in \u001b[0;36mRetry.increment\u001b[0;34m(self, method, url, response, error, _pool, _stacktrace)\u001b[0m\n\u001b[1;32m    591\u001b[0m \u001b[39mif\u001b[39;00m new_retry\u001b[39m.\u001b[39mis_exhausted():\n\u001b[0;32m--> 592\u001b[0m     \u001b[39mraise\u001b[39;00m MaxRetryError(_pool, url, error \u001b[39mor\u001b[39;00m ResponseError(cause))\n\u001b[1;32m    594\u001b[0m log\u001b[39m.\u001b[39mdebug(\u001b[39m\"\u001b[39m\u001b[39mIncremented Retry for (url=\u001b[39m\u001b[39m'\u001b[39m\u001b[39m%s\u001b[39;00m\u001b[39m'\u001b[39m\u001b[39m): \u001b[39m\u001b[39m%r\u001b[39;00m\u001b[39m\"\u001b[39m, url, new_retry)\n",
      "\u001b[0;31mMaxRetryError\u001b[0m: HTTPSConnectionPool(host='cs.illinois.edu', port=443): Max retries exceeded with url: /about/people/all-faculty/karthe (Caused by NewConnectionError('<urllib3.connection.HTTPSConnection object at 0x7fefd063b040>: Failed to establish a new connection: [Errno 8] nodename nor servname provided, or not known'))",
      "\nDuring handling of the above exception, another exception occurred:\n",
      "\u001b[0;31mConnectionError\u001b[0m                           Traceback (most recent call last)",
      "\u001b[1;32m/Users/jasonz/Desktop/ForwardDataLabResearch/task1_datamine/data_mining_t1.ipynb Cell 5\u001b[0m in \u001b[0;36m<cell line: 5>\u001b[0;34m()\u001b[0m\n\u001b[1;32m      <a href='vscode-notebook-cell:/Users/jasonz/Desktop/ForwardDataLabResearch/task1_datamine/data_mining_t1.ipynb#X22sZmlsZQ%3D%3D?line=8'>9</a>\u001b[0m h2_headers \u001b[39m=\u001b[39m [(\u001b[39m\"\u001b[39m\u001b[39mEducation\u001b[39m\u001b[39m\"\u001b[39m, \u001b[39m\"\u001b[39m\u001b[39mEducation\u001b[39m\u001b[39m\"\u001b[39m), (\u001b[39m\"\u001b[39m\u001b[39mAcademic Positions\u001b[39m\u001b[39m\"\u001b[39m, \u001b[39m\"\u001b[39m\u001b[39mAcademic Positions\u001b[39m\u001b[39m\"\u001b[39m), (\u001b[39m\"\u001b[39m\u001b[39mResearch Interests\u001b[39m\u001b[39m\"\u001b[39m, \u001b[39m\"\u001b[39m\u001b[39mResearch Interests\u001b[39m\u001b[39m\"\u001b[39m)]\n\u001b[1;32m     <a href='vscode-notebook-cell:/Users/jasonz/Desktop/ForwardDataLabResearch/task1_datamine/data_mining_t1.ipynb#X22sZmlsZQ%3D%3D?line=10'>11</a>\u001b[0m \u001b[39m# send a GET request to the webpage\u001b[39;00m\n\u001b[0;32m---> <a href='vscode-notebook-cell:/Users/jasonz/Desktop/ForwardDataLabResearch/task1_datamine/data_mining_t1.ipynb#X22sZmlsZQ%3D%3D?line=11'>12</a>\u001b[0m response \u001b[39m=\u001b[39m requests\u001b[39m.\u001b[39;49mget(url)\n\u001b[1;32m     <a href='vscode-notebook-cell:/Users/jasonz/Desktop/ForwardDataLabResearch/task1_datamine/data_mining_t1.ipynb#X22sZmlsZQ%3D%3D?line=13'>14</a>\u001b[0m \u001b[39m# parse the HTML content of the webpage using Beautiful Soup\u001b[39;00m\n\u001b[1;32m     <a href='vscode-notebook-cell:/Users/jasonz/Desktop/ForwardDataLabResearch/task1_datamine/data_mining_t1.ipynb#X22sZmlsZQ%3D%3D?line=14'>15</a>\u001b[0m soup \u001b[39m=\u001b[39m BeautifulSoup(response\u001b[39m.\u001b[39mcontent, \u001b[39m'\u001b[39m\u001b[39mhtml.parser\u001b[39m\u001b[39m'\u001b[39m)\n",
      "File \u001b[0;32m~/opt/anaconda3/lib/python3.9/site-packages/requests/api.py:75\u001b[0m, in \u001b[0;36mget\u001b[0;34m(url, params, **kwargs)\u001b[0m\n\u001b[1;32m     64\u001b[0m \u001b[39mdef\u001b[39;00m \u001b[39mget\u001b[39m(url, params\u001b[39m=\u001b[39m\u001b[39mNone\u001b[39;00m, \u001b[39m*\u001b[39m\u001b[39m*\u001b[39mkwargs):\n\u001b[1;32m     65\u001b[0m     \u001b[39mr\u001b[39m\u001b[39m\"\"\"Sends a GET request.\u001b[39;00m\n\u001b[1;32m     66\u001b[0m \n\u001b[1;32m     67\u001b[0m \u001b[39m    :param url: URL for the new :class:`Request` object.\u001b[39;00m\n\u001b[0;32m   (...)\u001b[0m\n\u001b[1;32m     72\u001b[0m \u001b[39m    :rtype: requests.Response\u001b[39;00m\n\u001b[1;32m     73\u001b[0m \u001b[39m    \"\"\"\u001b[39;00m\n\u001b[0;32m---> 75\u001b[0m     \u001b[39mreturn\u001b[39;00m request(\u001b[39m'\u001b[39;49m\u001b[39mget\u001b[39;49m\u001b[39m'\u001b[39;49m, url, params\u001b[39m=\u001b[39;49mparams, \u001b[39m*\u001b[39;49m\u001b[39m*\u001b[39;49mkwargs)\n",
      "File \u001b[0;32m~/opt/anaconda3/lib/python3.9/site-packages/requests/api.py:61\u001b[0m, in \u001b[0;36mrequest\u001b[0;34m(method, url, **kwargs)\u001b[0m\n\u001b[1;32m     57\u001b[0m \u001b[39m# By using the 'with' statement we are sure the session is closed, thus we\u001b[39;00m\n\u001b[1;32m     58\u001b[0m \u001b[39m# avoid leaving sockets open which can trigger a ResourceWarning in some\u001b[39;00m\n\u001b[1;32m     59\u001b[0m \u001b[39m# cases, and look like a memory leak in others.\u001b[39;00m\n\u001b[1;32m     60\u001b[0m \u001b[39mwith\u001b[39;00m sessions\u001b[39m.\u001b[39mSession() \u001b[39mas\u001b[39;00m session:\n\u001b[0;32m---> 61\u001b[0m     \u001b[39mreturn\u001b[39;00m session\u001b[39m.\u001b[39;49mrequest(method\u001b[39m=\u001b[39;49mmethod, url\u001b[39m=\u001b[39;49murl, \u001b[39m*\u001b[39;49m\u001b[39m*\u001b[39;49mkwargs)\n",
      "File \u001b[0;32m~/opt/anaconda3/lib/python3.9/site-packages/requests/sessions.py:529\u001b[0m, in \u001b[0;36mSession.request\u001b[0;34m(self, method, url, params, data, headers, cookies, files, auth, timeout, allow_redirects, proxies, hooks, stream, verify, cert, json)\u001b[0m\n\u001b[1;32m    524\u001b[0m send_kwargs \u001b[39m=\u001b[39m {\n\u001b[1;32m    525\u001b[0m     \u001b[39m'\u001b[39m\u001b[39mtimeout\u001b[39m\u001b[39m'\u001b[39m: timeout,\n\u001b[1;32m    526\u001b[0m     \u001b[39m'\u001b[39m\u001b[39mallow_redirects\u001b[39m\u001b[39m'\u001b[39m: allow_redirects,\n\u001b[1;32m    527\u001b[0m }\n\u001b[1;32m    528\u001b[0m send_kwargs\u001b[39m.\u001b[39mupdate(settings)\n\u001b[0;32m--> 529\u001b[0m resp \u001b[39m=\u001b[39m \u001b[39mself\u001b[39;49m\u001b[39m.\u001b[39;49msend(prep, \u001b[39m*\u001b[39;49m\u001b[39m*\u001b[39;49msend_kwargs)\n\u001b[1;32m    531\u001b[0m \u001b[39mreturn\u001b[39;00m resp\n",
      "File \u001b[0;32m~/opt/anaconda3/lib/python3.9/site-packages/requests/sessions.py:645\u001b[0m, in \u001b[0;36mSession.send\u001b[0;34m(self, request, **kwargs)\u001b[0m\n\u001b[1;32m    642\u001b[0m start \u001b[39m=\u001b[39m preferred_clock()\n\u001b[1;32m    644\u001b[0m \u001b[39m# Send the request\u001b[39;00m\n\u001b[0;32m--> 645\u001b[0m r \u001b[39m=\u001b[39m adapter\u001b[39m.\u001b[39;49msend(request, \u001b[39m*\u001b[39;49m\u001b[39m*\u001b[39;49mkwargs)\n\u001b[1;32m    647\u001b[0m \u001b[39m# Total elapsed time of the request (approximately)\u001b[39;00m\n\u001b[1;32m    648\u001b[0m elapsed \u001b[39m=\u001b[39m preferred_clock() \u001b[39m-\u001b[39m start\n",
      "File \u001b[0;32m~/opt/anaconda3/lib/python3.9/site-packages/requests/adapters.py:519\u001b[0m, in \u001b[0;36mHTTPAdapter.send\u001b[0;34m(self, request, stream, timeout, verify, cert, proxies)\u001b[0m\n\u001b[1;32m    515\u001b[0m     \u001b[39mif\u001b[39;00m \u001b[39misinstance\u001b[39m(e\u001b[39m.\u001b[39mreason, _SSLError):\n\u001b[1;32m    516\u001b[0m         \u001b[39m# This branch is for urllib3 v1.22 and later.\u001b[39;00m\n\u001b[1;32m    517\u001b[0m         \u001b[39mraise\u001b[39;00m SSLError(e, request\u001b[39m=\u001b[39mrequest)\n\u001b[0;32m--> 519\u001b[0m     \u001b[39mraise\u001b[39;00m \u001b[39mConnectionError\u001b[39;00m(e, request\u001b[39m=\u001b[39mrequest)\n\u001b[1;32m    521\u001b[0m \u001b[39mexcept\u001b[39;00m ClosedPoolError \u001b[39mas\u001b[39;00m e:\n\u001b[1;32m    522\u001b[0m     \u001b[39mraise\u001b[39;00m \u001b[39mConnectionError\u001b[39;00m(e, request\u001b[39m=\u001b[39mrequest)\n",
      "\u001b[0;31mConnectionError\u001b[0m: HTTPSConnectionPool(host='cs.illinois.edu', port=443): Max retries exceeded with url: /about/people/all-faculty/karthe (Caused by NewConnectionError('<urllib3.connection.HTTPSConnection object at 0x7fefd063b040>: Failed to establish a new connection: [Errno 8] nodename nor servname provided, or not known'))"
     ]
    }
   ],
   "source": [
    "import requests\n",
    "from bs4 import BeautifulSoup\n",
    "\n",
    "# specify the URL of the webpage to be scraped\n",
    "for prof in profs:\n",
    "    url = f\"https://cs.illinois.edu/about/people/all-faculty/{prof}\"\n",
    "\n",
    "    # specify the list of h2 headers to search for and the corresponding text labels\n",
    "    h2_headers = [(\"Education\", \"Education\"), (\"Academic Positions\", \"Academic Positions\"), (\"Research Interests\", \"Research Interests\")]\n",
    "\n",
    "    # send a GET request to the webpage\n",
    "    response = requests.get(url)\n",
    "\n",
    "    # parse the HTML content of the webpage using Beautiful Soup\n",
    "    soup = BeautifulSoup(response.content, 'html.parser')\n",
    "\n",
    "    # extract the name, department, and university from the webpage title\n",
    "    title = soup.head.find('title')\n",
    "    if title:\n",
    "        title_parts = title.text.strip().split(' | ')\n",
    "        name = title_parts[0]\n",
    "        department = title_parts[1]\n",
    "        university = title_parts[2]\n",
    "    else:\n",
    "        print('No title tag found')\n",
    "        name = ''\n",
    "        department = ''\n",
    "        university = ''\n",
    "\n",
    "    # create a string to hold the information of the new person\n",
    "    person_info = f\"Name: {name}\\nDepartment: {department}\\nUniversity: {university}\\n\\n\"\n",
    "    for header_text, label in h2_headers:\n",
    "        # find the h2 header with the specified text\n",
    "        h2 = soup.find('h2', text=header_text)\n",
    "        if h2:\n",
    "            # find the ul tag after the h2 header\n",
    "            ul = h2.find_next('ul')\n",
    "            if ul:\n",
    "                # loop through the li tags in the ul tag and add them to the person_info string\n",
    "                for li in ul.find_all('li'):\n",
    "                    person_info += f\"{label}: {li.text.strip()}\\n\"\n",
    "            else:\n",
    "                person_info += f\"{label}: Not Found\\n\"\n",
    "                print('No ul tag found after header:', header_text)\n",
    "        else:\n",
    "            person_info += f\"{label}: Not Found\\n\"\n",
    "            print('Header not found:', header_text)\n",
    "\n",
    "    # write the person_info string to a text file in append mode\n",
    "    with open('people.txt', 'a') as file:\n",
    "        file.write(person_info + \"\\n<----------------------------------------------------------------->\\n\")\n"
   ]
  },
  {
   "cell_type": "code",
   "execution_count": null,
   "metadata": {},
   "outputs": [],
   "source": []
  }
 ],
 "metadata": {
  "kernelspec": {
   "display_name": "Python 3.9.12 ('base')",
   "language": "python",
   "name": "python3"
  },
  "language_info": {
   "codemirror_mode": {
    "name": "ipython",
    "version": 3
   },
   "file_extension": ".py",
   "mimetype": "text/x-python",
   "name": "python",
   "nbconvert_exporter": "python",
   "pygments_lexer": "ipython3",
   "version": "3.9.12"
  },
  "orig_nbformat": 4,
  "vscode": {
   "interpreter": {
    "hash": "88b0272d80acab83776fd72d1a9b5c7096c825809c4fd3f61ad7b313653bb5a5"
   }
  }
 },
 "nbformat": 4,
 "nbformat_minor": 2
}
