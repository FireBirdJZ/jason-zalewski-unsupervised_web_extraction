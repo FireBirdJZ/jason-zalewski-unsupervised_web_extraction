{
 "cells": [
  {
   "cell_type": "code",
   "execution_count": null,
   "metadata": {},
   "outputs": [],
   "source": [
    "from lxml import etree\n",
    "\n",
    "def simplify_dom_tree(dom_tree, variable_nodes, num_ancestors):\n",
    "    # Initialize empty dictionaries for storing the results\n",
    "    descendant_dict = {}  # Dd\n",
    "    partner_dict = {}  # Dp\n",
    "    friend_dict = {}  # Df\n",
    "    \n",
    "    # First loop: build the descendant dictionary\n",
    "    for x in variable_nodes:\n",
    "        xpath = dom_tree.getpath(x)\n",
    "        ancestor_set = set(xpath.split(\"/\"))\n",
    "        k_ancestors = set(list(ancestor_set)[-num_ancestors:])\n",
    "        for ancestor in k_ancestors:\n",
    "            if ancestor not in descendant_dict:\n",
    "                descendant_dict[ancestor] = set()\n",
    "            descendant_dict[ancestor].add(x)\n",
    "    \n",
    "    # Second loop: use the descendant dictionary to find partners and friends\n",
    "    for x in variable_nodes:\n",
    "        xpath = dom_tree.getpath(x)\n",
    "        ancestor_set = set(xpath.split(\"/\"))\n",
    "        k_ancestors = set(list(ancestor_set)[-num_ancestors:])\n",
    "        for ancestor in k_ancestors:\n",
    "            descendant_nodes = descendant_dict[ancestor] - {x}  # DESC\n",
    "            if len(descendant_nodes) == 1 and not (partner_dict.get(x) or friend_dict.get(x)):\n",
    "                # If there's exactly one descendant node (other than x) and\n",
    "                # x doesn't already have a partner or friends, then\n",
    "                # set the descendant as x's partner and add x as a friend\n",
    "                partner_node = list(descendant_nodes)[0]\n",
    "                partner_dict[x] = partner_node\n",
    "                friend_dict[partner_node] = friend_dict.get(partner_node, set()) | {x}\n",
    "    \n",
    "    return partner_dict, friend_dict\n"
   ]
  }
 ],
 "metadata": {
  "kernelspec": {
   "display_name": "Python 3.9.6 64-bit",
   "language": "python",
   "name": "python3"
  },
  "language_info": {
   "name": "python",
   "version": "3.9.6"
  },
  "orig_nbformat": 4,
  "vscode": {
   "interpreter": {
    "hash": "31f2aee4e71d21fbe5cf8b01ff0e069b9275f58929596ceb00d14d90e3e16cd6"
   }
  }
 },
 "nbformat": 4,
 "nbformat_minor": 2
}
